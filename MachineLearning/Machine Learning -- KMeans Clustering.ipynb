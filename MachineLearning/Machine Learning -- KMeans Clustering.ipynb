{
 "cells": [
  {
   "cell_type": "code",
   "execution_count": 3,
   "metadata": {
    "ExecuteTime": {
     "end_time": "2020-10-18T13:37:32.940760Z",
     "start_time": "2020-10-18T13:37:32.937849Z"
    }
   },
   "outputs": [],
   "source": [
    "#import require libraries\n",
    "import numpy as np\n",
    "#import KMeans class from sklearn.cluster\n",
    "from sklearn.cluster import KMeans\n",
    "#import make_blobs dataset from sklearn.cluster\n",
    "from sklearn.datasets import make_blobs"
   ]
  },
  {
   "cell_type": "code",
   "execution_count": 4,
   "metadata": {
    "ExecuteTime": {
     "end_time": "2020-10-18T13:37:35.398830Z",
     "start_time": "2020-10-18T13:37:35.396018Z"
    }
   },
   "outputs": [],
   "source": [
    "#define number of samples\n",
    "n_samples =300\n",
    "#define random state value to initialize the center\n",
    "random_state =20"
   ]
  },
  {
   "cell_type": "code",
   "execution_count": 5,
   "metadata": {
    "ExecuteTime": {
     "end_time": "2020-10-18T13:37:38.925524Z",
     "start_time": "2020-10-18T13:37:38.922463Z"
    }
   },
   "outputs": [],
   "source": [
    "#define number of feature as 5\n",
    "X,y = make_blobs(n_samples=n_samples,n_features=5,random_state=None)"
   ]
  },
  {
   "cell_type": "code",
   "execution_count": 6,
   "metadata": {
    "ExecuteTime": {
     "end_time": "2020-10-18T13:37:39.733157Z",
     "start_time": "2020-10-18T13:37:39.714182Z"
    }
   },
   "outputs": [
    {
     "data": {
      "text/plain": [
       "array([1, 1, 2, 0, 0, 2, 2, 0, 0, 1, 1, 2, 0, 2, 2, 2, 0, 2, 2, 1, 1, 1,\n",
       "       1, 0, 2, 0, 0, 0, 1, 1, 1, 1, 1, 2, 0, 0, 0, 0, 2, 1, 0, 1, 1, 0,\n",
       "       0, 0, 2, 0, 2, 0, 0, 1, 2, 1, 1, 1, 1, 0, 1, 0, 1, 0, 2, 1, 0, 0,\n",
       "       2, 2, 0, 1, 2, 2, 1, 2, 0, 0, 1, 0, 1, 0, 2, 1, 2, 0, 1, 0, 2, 2,\n",
       "       2, 2, 1, 1, 2, 2, 0, 0, 2, 2, 1, 0, 0, 0, 0, 1, 2, 1, 1, 2, 1, 2,\n",
       "       0, 0, 0, 1, 1, 2, 0, 1, 1, 2, 2, 1, 0, 2, 2, 2, 0, 2, 2, 1, 2, 1,\n",
       "       1, 1, 2, 0, 0, 2, 2, 0, 1, 1, 2, 0, 1, 0, 1, 2, 0, 1, 2, 0, 0, 0,\n",
       "       0, 2, 0, 0, 2, 1, 1, 0, 0, 2, 1, 2, 1, 0, 2, 2, 0, 2, 1, 1, 1, 1,\n",
       "       2, 2, 0, 1, 2, 2, 0, 1, 2, 0, 2, 0, 1, 2, 2, 1, 2, 2, 0, 0, 0, 1,\n",
       "       2, 0, 1, 2, 2, 1, 2, 1, 1, 2, 1, 0, 1, 0, 0, 2, 2, 1, 1, 2, 1, 0,\n",
       "       0, 1, 2, 1, 2, 1, 1, 1, 2, 2, 0, 2, 0, 0, 2, 2, 0, 0, 1, 2, 1, 0,\n",
       "       1, 0, 0, 2, 2, 1, 1, 0, 0, 0, 0, 2, 1, 0, 1, 2, 0, 2, 1, 1, 1, 1,\n",
       "       1, 0, 0, 2, 0, 1, 1, 0, 0, 0, 2, 2, 1, 1, 2, 2, 0, 2, 0, 2, 1, 1,\n",
       "       0, 2, 2, 2, 1, 2, 0, 1, 2, 0, 1, 2, 0, 1], dtype=int32)"
      ]
     },
     "execution_count": 6,
     "metadata": {},
     "output_type": "execute_result"
    }
   ],
   "source": [
    "#define number of cluster to be formed as 3 and in random state and fit features into the model\n",
    "predict_y = KMeans(n_clusters=3,random_state=random_state).fit_predict(X)\n",
    "#print the estimator prediction\n",
    "predict_y"
   ]
  },
  {
   "cell_type": "code",
   "execution_count": null,
   "metadata": {
    "collapsed": true
   },
   "outputs": [],
   "source": []
  }
 ],
 "metadata": {
  "kernelspec": {
   "display_name": "Python 3",
   "language": "python",
   "name": "python3"
  },
  "language_info": {
   "codemirror_mode": {
    "name": "ipython",
    "version": 3
   },
   "file_extension": ".py",
   "mimetype": "text/x-python",
   "name": "python",
   "nbconvert_exporter": "python",
   "pygments_lexer": "ipython3",
   "version": "3.7.3"
  }
 },
 "nbformat": 4,
 "nbformat_minor": 1
}
