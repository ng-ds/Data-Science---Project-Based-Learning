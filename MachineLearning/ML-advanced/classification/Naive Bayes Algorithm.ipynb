{
 "cells": [
  {
   "cell_type": "markdown",
   "metadata": {},
   "source": [
    "## Naive Bayes - Very simple and popular classification algorithm\n",
    "\n",
    "### Preliminary Knowledge\n",
    "\n",
    "* **Conditional Probability** - Probability of event A given that other event B has occured. i.e. What is the probability of rain given that its cloudy?\n",
    "\n",
    "\n",
    "* **Joint Probability** - a measure that calculates likelihood of 2 or more events at the same time. e.g. given a deck of cards, the prob. that you draw a 6 given that you drew a red card. P(6 | red) = 2 / 26 = 1/13\n",
    "\n",
    "    * **Joint Probability = P (A ⋂ B) = P (A) x P (B)**\n",
    "\n",
    "\n",
    "* **Proportionality** - relationship between 2 quantiles that are related with multiplication to a constant.\n",
    "\n",
    "\n",
    "* **Baye's theorem** - describes the probability of an event based on prior knowledge of other conditions that might be related to the event."
   ]
  },
  {
   "cell_type": "markdown",
   "metadata": {},
   "source": [
    "* **Baye's theorem**\n",
    "\n",
    "    * **P (A|B) = P (B|A) x P(A) / P(B)**\n",
    "    \n",
    "* **If we had a target variable (y) and feature variable X**\n",
    "    * P (y | X) = P (X | y) x P (y) / P (X)\n",
    "    \n",
    "* **If we have multiple feature variables (X1, X2, X3, ... ..., Xn)**\n",
    "    * P (y | X) = [P (X1 | y) x P (X2 | y) x P (X3 | y) x ... ... x P (Xn | y)] x P (y) / [P(X1)xP(X2)xP(X3)x ... x P(Xn)]"
   ]
  },
  {
   "cell_type": "markdown",
   "metadata": {},
   "source": [
    "In a machine learning setting, we're solving for y so P(X) is constant."
   ]
  },
  {
   "cell_type": "markdown",
   "metadata": {},
   "source": [
    "### Dataset : Depending on weather condition whether to play golf or not\n",
    "\n",
    "<img src=\"img/naivebayes.png\">"
   ]
  },
  {
   "cell_type": "markdown",
   "metadata": {},
   "source": [
    "### Create a frequency table"
   ]
  },
  {
   "cell_type": "markdown",
   "metadata": {},
   "source": [
    "<img src=\"img/freq-table.png\">"
   ]
  },
  {
   "cell_type": "markdown",
   "metadata": {},
   "source": [
    "### Create a ratio table"
   ]
  },
  {
   "cell_type": "markdown",
   "metadata": {},
   "source": [
    "<img src=\"img/ratio-table.png\">"
   ]
  },
  {
   "cell_type": "markdown",
   "metadata": {},
   "source": [
    "**X = {outlook : sunny   ,     temperature : mild    ,    humidity : normal    ,    windy : false    }**"
   ]
  },
  {
   "cell_type": "markdown",
   "metadata": {},
   "source": [
    "### P (yes | X) = 0.028218694885361564"
   ]
  },
  {
   "cell_type": "markdown",
   "metadata": {},
   "source": [
    "#### P (yes) = 9/14\n",
    "\n",
    "#### P(outlook = sunny | yes) = 2/9\n",
    "\n",
    "#### P(temperature = mild | yes) = 4/9\n",
    "\n",
    "#### P(humidity = normal | yes) = 6/9\n",
    "\n",
    "#### P(windy = False | yes) = 6/9"
   ]
  },
  {
   "cell_type": "code",
   "execution_count": 4,
   "metadata": {},
   "outputs": [
    {
     "data": {
      "text/plain": [
       "0.028218694885361564"
      ]
     },
     "execution_count": 4,
     "metadata": {},
     "output_type": "execute_result"
    }
   ],
   "source": [
    "# 9/14 * 2/9 * 4/9 * 6/9 * 6/9\n",
    "\n",
    "9/14 * 2/9 * 4/9 * 6/9 * 6/9"
   ]
  },
  {
   "cell_type": "markdown",
   "metadata": {},
   "source": [
    "### P (No | X) = 0.0069"
   ]
  },
  {
   "cell_type": "markdown",
   "metadata": {},
   "source": [
    "**Since P(yes|X) > P(No|X), so we predict that person would be playing golf.**"
   ]
  },
  {
   "cell_type": "markdown",
   "metadata": {},
   "source": [
    "# Great Job !"
   ]
  }
 ],
 "metadata": {
  "kernelspec": {
   "display_name": "Python 3",
   "language": "python",
   "name": "python3"
  },
  "language_info": {
   "codemirror_mode": {
    "name": "ipython",
    "version": 3
   },
   "file_extension": ".py",
   "mimetype": "text/x-python",
   "name": "python",
   "nbconvert_exporter": "python",
   "pygments_lexer": "ipython3",
   "version": "3.8.3"
  }
 },
 "nbformat": 4,
 "nbformat_minor": 4
}
