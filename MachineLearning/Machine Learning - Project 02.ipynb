{
 "cells": [
  {
   "cell_type": "code",
   "execution_count": 1,
   "metadata": {
    "ExecuteTime": {
     "end_time": "2020-10-18T13:29:57.888981Z",
     "start_time": "2020-10-18T13:29:57.400178Z"
    }
   },
   "outputs": [],
   "source": [
    "#import required libraries\n",
    "import pandas as pd"
   ]
  },
  {
   "cell_type": "code",
   "execution_count": 3,
   "metadata": {
    "ExecuteTime": {
     "end_time": "2020-10-18T13:30:41.659089Z",
     "start_time": "2020-10-18T13:30:41.650230Z"
    }
   },
   "outputs": [],
   "source": [
    "#import the diabetes dataset\n",
    "df_diabetes_data = pd.read_csv('pima-indians-diabetes.data',header=None)"
   ]
  },
  {
   "cell_type": "code",
   "execution_count": 4,
   "metadata": {
    "ExecuteTime": {
     "end_time": "2020-10-18T13:30:43.825087Z",
     "start_time": "2020-10-18T13:30:43.807706Z"
    }
   },
   "outputs": [
    {
     "data": {
      "text/html": [
       "<div>\n",
       "<style scoped>\n",
       "    .dataframe tbody tr th:only-of-type {\n",
       "        vertical-align: middle;\n",
       "    }\n",
       "\n",
       "    .dataframe tbody tr th {\n",
       "        vertical-align: top;\n",
       "    }\n",
       "\n",
       "    .dataframe thead th {\n",
       "        text-align: right;\n",
       "    }\n",
       "</style>\n",
       "<table border=\"1\" class=\"dataframe\">\n",
       "  <thead>\n",
       "    <tr style=\"text-align: right;\">\n",
       "      <th></th>\n",
       "      <th>0</th>\n",
       "      <th>1</th>\n",
       "      <th>2</th>\n",
       "      <th>3</th>\n",
       "      <th>4</th>\n",
       "      <th>5</th>\n",
       "      <th>6</th>\n",
       "      <th>7</th>\n",
       "      <th>8</th>\n",
       "    </tr>\n",
       "  </thead>\n",
       "  <tbody>\n",
       "    <tr>\n",
       "      <th>0</th>\n",
       "      <td>6</td>\n",
       "      <td>148</td>\n",
       "      <td>72</td>\n",
       "      <td>35</td>\n",
       "      <td>0</td>\n",
       "      <td>33.6</td>\n",
       "      <td>0.627</td>\n",
       "      <td>50</td>\n",
       "      <td>1</td>\n",
       "    </tr>\n",
       "    <tr>\n",
       "      <th>1</th>\n",
       "      <td>1</td>\n",
       "      <td>85</td>\n",
       "      <td>66</td>\n",
       "      <td>29</td>\n",
       "      <td>0</td>\n",
       "      <td>26.6</td>\n",
       "      <td>0.351</td>\n",
       "      <td>31</td>\n",
       "      <td>0</td>\n",
       "    </tr>\n",
       "    <tr>\n",
       "      <th>2</th>\n",
       "      <td>8</td>\n",
       "      <td>183</td>\n",
       "      <td>64</td>\n",
       "      <td>0</td>\n",
       "      <td>0</td>\n",
       "      <td>23.3</td>\n",
       "      <td>0.672</td>\n",
       "      <td>32</td>\n",
       "      <td>1</td>\n",
       "    </tr>\n",
       "    <tr>\n",
       "      <th>3</th>\n",
       "      <td>1</td>\n",
       "      <td>89</td>\n",
       "      <td>66</td>\n",
       "      <td>23</td>\n",
       "      <td>94</td>\n",
       "      <td>28.1</td>\n",
       "      <td>0.167</td>\n",
       "      <td>21</td>\n",
       "      <td>0</td>\n",
       "    </tr>\n",
       "    <tr>\n",
       "      <th>4</th>\n",
       "      <td>0</td>\n",
       "      <td>137</td>\n",
       "      <td>40</td>\n",
       "      <td>35</td>\n",
       "      <td>168</td>\n",
       "      <td>43.1</td>\n",
       "      <td>2.288</td>\n",
       "      <td>33</td>\n",
       "      <td>1</td>\n",
       "    </tr>\n",
       "  </tbody>\n",
       "</table>\n",
       "</div>"
      ],
      "text/plain": [
       "   0    1   2   3    4     5      6   7  8\n",
       "0  6  148  72  35    0  33.6  0.627  50  1\n",
       "1  1   85  66  29    0  26.6  0.351  31  0\n",
       "2  8  183  64   0    0  23.3  0.672  32  1\n",
       "3  1   89  66  23   94  28.1  0.167  21  0\n",
       "4  0  137  40  35  168  43.1  2.288  33  1"
      ]
     },
     "execution_count": 4,
     "metadata": {},
     "output_type": "execute_result"
    }
   ],
   "source": [
    "#view first 5 observations\n",
    "df_diabetes_data.head()"
   ]
  },
  {
   "cell_type": "code",
   "execution_count": 5,
   "metadata": {
    "ExecuteTime": {
     "end_time": "2020-10-18T13:31:05.152513Z",
     "start_time": "2020-10-18T13:31:05.025807Z"
    }
   },
   "outputs": [
    {
     "name": "stdout",
     "output_type": "stream",
     "text": [
      "1. Title: Pima Indians Diabetes Database\r\n",
      "\r\n",
      "2. Sources:\r\n",
      "   (a) Original owners: National Institute of Diabetes and Digestive and\r\n",
      "                        Kidney Diseases\r\n",
      "   (b) Donor of database: Vincent Sigillito (vgs@aplcen.apl.jhu.edu)\r\n",
      "                          Research Center, RMI Group Leader\r\n",
      "                          Applied Physics Laboratory\r\n",
      "                          The Johns Hopkins University\r\n",
      "                          Johns Hopkins Road\r\n",
      "                          Laurel, MD 20707\r\n",
      "                          (301) 953-6231\r\n",
      "   (c) Date received: 9 May 1990\r\n",
      "\r\n",
      "3. Past Usage:\r\n",
      "    1. Smith,~J.~W., Everhart,~J.~E., Dickson,~W.~C., Knowler,~W.~C., \\&\r\n",
      "       Johannes,~R.~S. (1988). Using the ADAP learning algorithm to forecast\r\n",
      "       the onset of diabetes mellitus.  In {\\it Proceedings of the Symposium\r\n",
      "       on Computer Applications and Medical Care} (pp. 261--265).  IEEE\r\n",
      "       Computer Society Press.\r\n",
      "\r\n",
      "       The diagnostic, binary-valued variable investigated is whether the\r\n",
      "       patient shows signs of diabetes according to World Health Organization\r\n",
      "       criteria (i.e., if the 2 hour post-load plasma glucose was at least \r\n",
      "       200 mg/dl at any survey  examination or if found during routine medical\r\n",
      "       care).   The population lives near Phoenix, Arizona, USA.\r\n",
      "\r\n",
      "       Results: Their ADAP algorithm makes a real-valued prediction between\r\n",
      "       0 and 1.  This was transformed into a binary decision using a cutoff of \r\n",
      "       0.448.  Using 576 training instances, the sensitivity and specificity\r\n",
      "       of their algorithm was 76% on the remaining 192 instances.\r\n",
      "\r\n",
      "4. Relevant Information:\r\n",
      "      Several constraints were placed on the selection of these instances from\r\n",
      "      a larger database.  In particular, all patients here are females at\r\n",
      "      least 21 years old of Pima Indian heritage.  ADAP is an adaptive learning\r\n",
      "      routine that generates and executes digital analogs of perceptron-like\r\n",
      "      devices.  It is a unique algorithm; see the paper for details.\r\n",
      "\r\n",
      "5. Number of Instances: 768\r\n",
      "\r\n",
      "6. Number of Attributes: 8 plus class \r\n",
      "\r\n",
      "7. For Each Attribute: (all numeric-valued)\r\n",
      "   1. Number of times pregnant\r\n",
      "   2. Plasma glucose concentration a 2 hours in an oral glucose tolerance test\r\n",
      "   3. Diastolic blood pressure (mm Hg)\r\n",
      "   4. Triceps skin fold thickness (mm)\r\n",
      "   5. 2-Hour serum insulin (mu U/ml)\r\n",
      "   6. Body mass index (weight in kg/(height in m)^2)\r\n",
      "   7. Diabetes pedigree function\r\n",
      "   8. Age (years)\r\n",
      "   9. Class variable (0 or 1)\r\n",
      "\r\n",
      "8. Missing Attribute Values: Yes\r\n",
      "\r\n",
      "9. Class Distribution: (class value 1 is interpreted as \"tested positive for\r\n",
      "   diabetes\")\r\n",
      "\r\n",
      "   Class Value  Number of instances\r\n",
      "   0            500\r\n",
      "   1            268\r\n",
      "\r\n",
      "10. Brief statistical analysis:\r\n",
      "\r\n",
      "    Attribute number:    Mean:   Standard Deviation:\r\n",
      "    1.                     3.8     3.4\r\n",
      "    2.                   120.9    32.0\r\n",
      "    3.                    69.1    19.4\r\n",
      "    4.                    20.5    16.0\r\n",
      "    5.                    79.8   115.2\r\n",
      "    6.                    32.0     7.9\r\n",
      "    7.                     0.5     0.3\r\n",
      "    8.                    33.2    11.8\r\n",
      "\r\n"
     ]
    }
   ],
   "source": [
    "!cat pima-indians-diabetes.names"
   ]
  },
  {
   "cell_type": "code",
   "execution_count": 6,
   "metadata": {
    "ExecuteTime": {
     "end_time": "2020-10-18T13:31:34.165275Z",
     "start_time": "2020-10-18T13:31:34.162411Z"
    }
   },
   "outputs": [],
   "source": [
    "#use names file (supplied withh dataset) to set the columns\n",
    "feature_names = ['Pregnant','glucose','bp','skin','insulin','bmi','pedigree','age','label']"
   ]
  },
  {
   "cell_type": "code",
   "execution_count": 7,
   "metadata": {
    "ExecuteTime": {
     "end_time": "2020-10-18T13:31:51.017188Z",
     "start_time": "2020-10-18T13:31:51.008994Z"
    }
   },
   "outputs": [],
   "source": [
    "#fix the dataframe with the column names\n",
    "df_diabetes_data=pd.read_csv('pima-indians-diabetes.data',header=None,names=feature_names)"
   ]
  },
  {
   "cell_type": "code",
   "execution_count": 8,
   "metadata": {
    "ExecuteTime": {
     "end_time": "2020-10-18T13:31:53.931550Z",
     "start_time": "2020-10-18T13:31:53.920926Z"
    }
   },
   "outputs": [
    {
     "data": {
      "text/html": [
       "<div>\n",
       "<style scoped>\n",
       "    .dataframe tbody tr th:only-of-type {\n",
       "        vertical-align: middle;\n",
       "    }\n",
       "\n",
       "    .dataframe tbody tr th {\n",
       "        vertical-align: top;\n",
       "    }\n",
       "\n",
       "    .dataframe thead th {\n",
       "        text-align: right;\n",
       "    }\n",
       "</style>\n",
       "<table border=\"1\" class=\"dataframe\">\n",
       "  <thead>\n",
       "    <tr style=\"text-align: right;\">\n",
       "      <th></th>\n",
       "      <th>Pregnant</th>\n",
       "      <th>glucose</th>\n",
       "      <th>bp</th>\n",
       "      <th>skin</th>\n",
       "      <th>insulin</th>\n",
       "      <th>bmi</th>\n",
       "      <th>pedigree</th>\n",
       "      <th>age</th>\n",
       "      <th>label</th>\n",
       "    </tr>\n",
       "  </thead>\n",
       "  <tbody>\n",
       "    <tr>\n",
       "      <th>0</th>\n",
       "      <td>6</td>\n",
       "      <td>148</td>\n",
       "      <td>72</td>\n",
       "      <td>35</td>\n",
       "      <td>0</td>\n",
       "      <td>33.6</td>\n",
       "      <td>0.627</td>\n",
       "      <td>50</td>\n",
       "      <td>1</td>\n",
       "    </tr>\n",
       "    <tr>\n",
       "      <th>1</th>\n",
       "      <td>1</td>\n",
       "      <td>85</td>\n",
       "      <td>66</td>\n",
       "      <td>29</td>\n",
       "      <td>0</td>\n",
       "      <td>26.6</td>\n",
       "      <td>0.351</td>\n",
       "      <td>31</td>\n",
       "      <td>0</td>\n",
       "    </tr>\n",
       "    <tr>\n",
       "      <th>2</th>\n",
       "      <td>8</td>\n",
       "      <td>183</td>\n",
       "      <td>64</td>\n",
       "      <td>0</td>\n",
       "      <td>0</td>\n",
       "      <td>23.3</td>\n",
       "      <td>0.672</td>\n",
       "      <td>32</td>\n",
       "      <td>1</td>\n",
       "    </tr>\n",
       "    <tr>\n",
       "      <th>3</th>\n",
       "      <td>1</td>\n",
       "      <td>89</td>\n",
       "      <td>66</td>\n",
       "      <td>23</td>\n",
       "      <td>94</td>\n",
       "      <td>28.1</td>\n",
       "      <td>0.167</td>\n",
       "      <td>21</td>\n",
       "      <td>0</td>\n",
       "    </tr>\n",
       "    <tr>\n",
       "      <th>4</th>\n",
       "      <td>0</td>\n",
       "      <td>137</td>\n",
       "      <td>40</td>\n",
       "      <td>35</td>\n",
       "      <td>168</td>\n",
       "      <td>43.1</td>\n",
       "      <td>2.288</td>\n",
       "      <td>33</td>\n",
       "      <td>1</td>\n",
       "    </tr>\n",
       "  </tbody>\n",
       "</table>\n",
       "</div>"
      ],
      "text/plain": [
       "   Pregnant  glucose  bp  skin  insulin   bmi  pedigree  age  label\n",
       "0         6      148  72    35        0  33.6     0.627   50      1\n",
       "1         1       85  66    29        0  26.6     0.351   31      0\n",
       "2         8      183  64     0        0  23.3     0.672   32      1\n",
       "3         1       89  66    23       94  28.1     0.167   21      0\n",
       "4         0      137  40    35      168  43.1     2.288   33      1"
      ]
     },
     "execution_count": 8,
     "metadata": {},
     "output_type": "execute_result"
    }
   ],
   "source": [
    "#view first five observations\n",
    "df_diabetes_data.head()"
   ]
  },
  {
   "cell_type": "code",
   "execution_count": 9,
   "metadata": {
    "ExecuteTime": {
     "end_time": "2020-10-18T13:31:56.004038Z",
     "start_time": "2020-10-18T13:31:56.000498Z"
    }
   },
   "outputs": [
    {
     "data": {
      "text/plain": [
       "(768, 9)"
      ]
     },
     "execution_count": 9,
     "metadata": {},
     "output_type": "execute_result"
    }
   ],
   "source": [
    "#view the dataset shape\n",
    "df_diabetes_data.shape"
   ]
  },
  {
   "cell_type": "code",
   "execution_count": 10,
   "metadata": {
    "ExecuteTime": {
     "end_time": "2020-10-18T13:32:03.082144Z",
     "start_time": "2020-10-18T13:32:03.076613Z"
    }
   },
   "outputs": [],
   "source": [
    "#select features from the dataset for model building purpose\n",
    "feature_select_cols = ['Pregnant','insulin','bmi','age']\n",
    "#create feature object\n",
    "X_feature = df_diabetes_data[feature_select_cols]\n",
    "#create reponse object\n",
    "Y_target = df_diabetes_data['label']"
   ]
  },
  {
   "cell_type": "code",
   "execution_count": 11,
   "metadata": {
    "ExecuteTime": {
     "end_time": "2020-10-18T13:32:03.764228Z",
     "start_time": "2020-10-18T13:32:03.760627Z"
    }
   },
   "outputs": [
    {
     "data": {
      "text/plain": [
       "(768, 4)"
      ]
     },
     "execution_count": 11,
     "metadata": {},
     "output_type": "execute_result"
    }
   ],
   "source": [
    "#view shape of the feature object\n",
    "X_feature.shape"
   ]
  },
  {
   "cell_type": "code",
   "execution_count": 12,
   "metadata": {
    "ExecuteTime": {
     "end_time": "2020-10-18T13:32:05.237995Z",
     "start_time": "2020-10-18T13:32:05.234256Z"
    }
   },
   "outputs": [
    {
     "data": {
      "text/plain": [
       "(768,)"
      ]
     },
     "execution_count": 12,
     "metadata": {},
     "output_type": "execute_result"
    }
   ],
   "source": [
    "#view shape of the target object\n",
    "Y_target.shape"
   ]
  },
  {
   "cell_type": "code",
   "execution_count": 13,
   "metadata": {
    "ExecuteTime": {
     "end_time": "2020-10-18T13:33:03.437046Z",
     "start_time": "2020-10-18T13:33:02.782412Z"
    }
   },
   "outputs": [],
   "source": [
    "#split test and training data\n",
    "# by default 75% training data and 25% testing data\n",
    "from sklearn.model_selection import train_test_split\n",
    "x_train, x_test, y_train, y_test = train_test_split(X_feature,Y_target,random_state=1)"
   ]
  },
  {
   "cell_type": "code",
   "execution_count": 14,
   "metadata": {
    "ExecuteTime": {
     "end_time": "2020-10-18T13:33:06.604495Z",
     "start_time": "2020-10-18T13:33:06.552719Z"
    }
   },
   "outputs": [
    {
     "name": "stderr",
     "output_type": "stream",
     "text": [
      "/Users/ankit1.aggarwal/anaconda3/lib/python3.7/site-packages/sklearn/linear_model/logistic.py:432: FutureWarning: Default solver will be changed to 'lbfgs' in 0.22. Specify a solver to silence this warning.\n",
      "  FutureWarning)\n"
     ]
    },
    {
     "data": {
      "text/plain": [
       "LogisticRegression(C=1.0, class_weight=None, dual=False, fit_intercept=True,\n",
       "                   intercept_scaling=1, l1_ratio=None, max_iter=100,\n",
       "                   multi_class='warn', n_jobs=None, penalty='l2',\n",
       "                   random_state=None, solver='warn', tol=0.0001, verbose=0,\n",
       "                   warm_start=False)"
      ]
     },
     "execution_count": 14,
     "metadata": {},
     "output_type": "execute_result"
    }
   ],
   "source": [
    "# train a logistic regression model on the training set\n",
    "from sklearn.linear_model import LogisticRegression\n",
    "logReg = LogisticRegression()\n",
    "logReg.fit(x_train,y_train)"
   ]
  },
  {
   "cell_type": "code",
   "execution_count": 15,
   "metadata": {
    "ExecuteTime": {
     "end_time": "2020-10-18T13:33:37.493767Z",
     "start_time": "2020-10-18T13:33:37.490175Z"
    }
   },
   "outputs": [],
   "source": [
    "# make predictions for the testing set\n",
    "y_pred = logReg.predict(x_test)"
   ]
  },
  {
   "cell_type": "code",
   "execution_count": 16,
   "metadata": {
    "ExecuteTime": {
     "end_time": "2020-10-18T13:33:44.172359Z",
     "start_time": "2020-10-18T13:33:44.167883Z"
    }
   },
   "outputs": [
    {
     "data": {
      "text/plain": [
       "0.6979166666666666"
      ]
     },
     "execution_count": 16,
     "metadata": {},
     "output_type": "execute_result"
    }
   ],
   "source": [
    "# check for accuracy\n",
    "from sklearn import metrics\n",
    "metrics.accuracy_score(y_test,y_pred)"
   ]
  },
  {
   "cell_type": "code",
   "execution_count": 17,
   "metadata": {
    "ExecuteTime": {
     "end_time": "2020-10-18T13:33:59.150011Z",
     "start_time": "2020-10-18T13:33:59.145052Z"
    }
   },
   "outputs": [
    {
     "name": "stdout",
     "output_type": "stream",
     "text": [
      "actual:    [0 0 0 0 0 0 0 0 0 0 0 0 1 1 0 1 1 0 0 0 1 1 1 1 0 0 0 1 0 1]\n",
      "predicted: [0 0 0 0 0 0 0 0 0 0 0 0 1 1 0 0 0 0 0 0 0 0 1 0 0 0 0 0 0 0]\n"
     ]
    }
   ],
   "source": [
    "# print the first 30 true and predicted responses\n",
    "print ('actual:   ', y_test.values[0:30])\n",
    "print ('predicted:', y_pred[0:30])"
   ]
  },
  {
   "cell_type": "code",
   "execution_count": null,
   "metadata": {
    "collapsed": true
   },
   "outputs": [],
   "source": []
  }
 ],
 "metadata": {
  "kernelspec": {
   "display_name": "Python 3",
   "language": "python",
   "name": "python3"
  },
  "language_info": {
   "codemirror_mode": {
    "name": "ipython",
    "version": 3
   },
   "file_extension": ".py",
   "mimetype": "text/x-python",
   "name": "python",
   "nbconvert_exporter": "python",
   "pygments_lexer": "ipython3",
   "version": "3.7.3"
  }
 },
 "nbformat": 4,
 "nbformat_minor": 1
}
