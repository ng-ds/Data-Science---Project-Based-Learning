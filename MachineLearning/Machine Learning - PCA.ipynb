{
 "cells": [
  {
   "cell_type": "code",
   "execution_count": 1,
   "metadata": {
    "ExecuteTime": {
     "end_time": "2020-10-18T13:36:10.718230Z",
     "start_time": "2020-10-18T13:36:10.027079Z"
    }
   },
   "outputs": [],
   "source": [
    "#import required library PCA\n",
    "from sklearn.decomposition import PCA\n",
    "#import the dataset \n",
    "from sklearn.datasets import make_blobs"
   ]
  },
  {
   "cell_type": "code",
   "execution_count": 2,
   "metadata": {
    "ExecuteTime": {
     "end_time": "2020-10-18T13:36:11.287015Z",
     "start_time": "2020-10-18T13:36:11.284440Z"
    }
   },
   "outputs": [],
   "source": [
    "#define sample and random state\n",
    "n_sample = 20\n",
    "random_state =20"
   ]
  },
  {
   "cell_type": "code",
   "execution_count": 3,
   "metadata": {
    "ExecuteTime": {
     "end_time": "2020-10-18T13:36:12.588997Z",
     "start_time": "2020-10-18T13:36:12.583752Z"
    }
   },
   "outputs": [],
   "source": [
    "#Generate the dataset with 10 features (dimension)\n",
    "X,y = make_blobs(n_samples=n_sample,n_features=10,random_state=None)"
   ]
  },
  {
   "cell_type": "code",
   "execution_count": 4,
   "metadata": {
    "ExecuteTime": {
     "end_time": "2020-10-18T13:36:13.866146Z",
     "start_time": "2020-10-18T13:36:13.857530Z"
    }
   },
   "outputs": [
    {
     "data": {
      "text/plain": [
       "(20, 10)"
      ]
     },
     "execution_count": 4,
     "metadata": {},
     "output_type": "execute_result"
    }
   ],
   "source": [
    "#view the shape of the dataset\n",
    "X.shape"
   ]
  },
  {
   "cell_type": "code",
   "execution_count": 5,
   "metadata": {
    "ExecuteTime": {
     "end_time": "2020-10-18T13:36:15.946051Z",
     "start_time": "2020-10-18T13:36:15.943455Z"
    }
   },
   "outputs": [],
   "source": [
    "#define the PCA estimator with number of reduced components\n",
    "pca = PCA(n_components=3)"
   ]
  },
  {
   "cell_type": "code",
   "execution_count": 6,
   "metadata": {
    "ExecuteTime": {
     "end_time": "2020-10-18T13:36:20.981347Z",
     "start_time": "2020-10-18T13:36:20.958785Z"
    }
   },
   "outputs": [
    {
     "data": {
      "text/plain": [
       "array([0.71156758, 0.26794741, 0.00523998])"
      ]
     },
     "execution_count": 6,
     "metadata": {},
     "output_type": "execute_result"
    }
   ],
   "source": [
    "#fit the data into the PCA estimator\n",
    "pca.fit(X)\n",
    "pca.explained_variance_ratio_"
   ]
  },
  {
   "cell_type": "code",
   "execution_count": 7,
   "metadata": {
    "ExecuteTime": {
     "end_time": "2020-10-18T13:36:25.898990Z",
     "start_time": "2020-10-18T13:36:25.894903Z"
    }
   },
   "outputs": [
    {
     "data": {
      "text/plain": [
       "array([-0.52251527,  0.02557725, -0.10490687, -0.38702536,  0.22121358,\n",
       "        0.09489518, -0.3243797 ,  0.24431328, -0.49341087,  0.31499765])"
      ]
     },
     "execution_count": 7,
     "metadata": {},
     "output_type": "execute_result"
    }
   ],
   "source": [
    "#print the first PCA component\n",
    "first_pca = pca.components_[0]\n",
    "first_pca"
   ]
  },
  {
   "cell_type": "code",
   "execution_count": 8,
   "metadata": {
    "ExecuteTime": {
     "end_time": "2020-10-18T13:36:28.109616Z",
     "start_time": "2020-10-18T13:36:28.105002Z"
    }
   },
   "outputs": [],
   "source": [
    "#transform the fitted data using transform method \n",
    "pca_reduced = pca.transform(X)"
   ]
  },
  {
   "cell_type": "code",
   "execution_count": 9,
   "metadata": {
    "ExecuteTime": {
     "end_time": "2020-10-18T13:36:29.416696Z",
     "start_time": "2020-10-18T13:36:29.413172Z"
    }
   },
   "outputs": [
    {
     "data": {
      "text/plain": [
       "(20, 3)"
      ]
     },
     "execution_count": 9,
     "metadata": {},
     "output_type": "execute_result"
    }
   ],
   "source": [
    "#view the reduced shape (lower dimension)\n",
    "pca_reduced.shape"
   ]
  },
  {
   "cell_type": "code",
   "execution_count": null,
   "metadata": {
    "collapsed": true
   },
   "outputs": [],
   "source": []
  }
 ],
 "metadata": {
  "kernelspec": {
   "display_name": "Python 3",
   "language": "python",
   "name": "python3"
  },
  "language_info": {
   "codemirror_mode": {
    "name": "ipython",
    "version": 3
   },
   "file_extension": ".py",
   "mimetype": "text/x-python",
   "name": "python",
   "nbconvert_exporter": "python",
   "pygments_lexer": "ipython3",
   "version": "3.7.3"
  }
 },
 "nbformat": 4,
 "nbformat_minor": 1
}
