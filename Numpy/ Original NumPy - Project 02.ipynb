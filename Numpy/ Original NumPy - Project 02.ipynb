{
 "cells": [
  {
   "cell_type": "code",
   "execution_count": 8,
   "metadata": {
    "ExecuteTime": {
     "end_time": "2020-10-10T17:48:15.619192Z",
     "start_time": "2020-10-10T17:48:15.610110Z"
    }
   },
   "outputs": [],
   "source": [
    "#import necessary libraries\n",
    "import numpy as np"
   ]
  },
  {
   "cell_type": "code",
   "execution_count": 9,
   "metadata": {
    "ExecuteTime": {
     "end_time": "2020-10-10T17:48:36.067992Z",
     "start_time": "2020-10-10T17:48:36.062433Z"
    }
   },
   "outputs": [],
   "source": [
    "#Dataset from summer Olympic London, year 2012\n",
    "np_olympic_country = np.array(['GBR','China','RUS','US','KOR','JPN','GER'])\n",
    "np_olympic_country_Gold = np.array([29,38,24,46,13,7,11])\n",
    "np_olympic_country_Silver = np.array([17,28,25,28,8,14,11])\n",
    "np_olympic_country_Bronze = np.array([19,22,32,29,7,17,14])"
   ]
  },
  {
   "cell_type": "markdown",
   "metadata": {},
   "source": [
    "##### Find country with maximum gold"
   ]
  },
  {
   "cell_type": "code",
   "execution_count": 10,
   "metadata": {
    "ExecuteTime": {
     "end_time": "2020-10-10T17:49:14.297076Z",
     "start_time": "2020-10-10T17:49:14.294200Z"
    }
   },
   "outputs": [],
   "source": [
    "#find country index with maximum gold\n",
    "max_gold_index = np_olympic_country_Gold.argmax()"
   ]
  },
  {
   "cell_type": "code",
   "execution_count": 4,
   "metadata": {
    "ExecuteTime": {
     "end_time": "2020-10-10T13:45:07.771013Z",
     "start_time": "2020-10-10T13:45:07.768409Z"
    }
   },
   "outputs": [],
   "source": [
    "country_with_max_gold = np_olympic_country[max_gold_index]"
   ]
  },
  {
   "cell_type": "code",
   "execution_count": 11,
   "metadata": {
    "ExecuteTime": {
     "end_time": "2020-10-10T17:49:31.598369Z",
     "start_time": "2020-10-10T17:49:31.594867Z"
    }
   },
   "outputs": [
    {
     "name": "stdout",
     "output_type": "stream",
     "text": [
      "US\n"
     ]
    }
   ],
   "source": [
    "#print country with maximum gold\n",
    "print( country_with_max_gold)"
   ]
  },
  {
   "cell_type": "markdown",
   "metadata": {},
   "source": [
    "#### Find countries with more than 20 gold medals"
   ]
  },
  {
   "cell_type": "code",
   "execution_count": 12,
   "metadata": {
    "ExecuteTime": {
     "end_time": "2020-10-10T17:50:02.450920Z",
     "start_time": "2020-10-10T17:50:02.447566Z"
    }
   },
   "outputs": [],
   "source": [
    "mask = np_olympic_country_Gold>20"
   ]
  },
  {
   "cell_type": "code",
   "execution_count": 13,
   "metadata": {
    "ExecuteTime": {
     "end_time": "2020-10-10T17:50:05.326572Z",
     "start_time": "2020-10-10T17:50:05.312561Z"
    }
   },
   "outputs": [
    {
     "data": {
      "text/plain": [
       "array([ True,  True,  True,  True, False, False, False])"
      ]
     },
     "execution_count": 13,
     "metadata": {},
     "output_type": "execute_result"
    }
   ],
   "source": [
    "mask"
   ]
  },
  {
   "cell_type": "code",
   "execution_count": 14,
   "metadata": {
    "ExecuteTime": {
     "end_time": "2020-10-10T17:50:17.423695Z",
     "start_time": "2020-10-10T17:50:17.419672Z"
    }
   },
   "outputs": [
    {
     "data": {
      "text/plain": [
       "array(['GBR', 'China', 'RUS', 'US'], dtype='<U5')"
      ]
     },
     "execution_count": 14,
     "metadata": {},
     "output_type": "execute_result"
    }
   ],
   "source": [
    "#country won more than 20 gold medals, use boolean indexing technique\n",
    "np_olympic_country[mask]"
   ]
  },
  {
   "cell_type": "markdown",
   "metadata": {},
   "source": [
    "#### Evaluate the dataset and print the medal tally\n"
   ]
  },
  {
   "cell_type": "code",
   "execution_count": 15,
   "metadata": {
    "ExecuteTime": {
     "end_time": "2020-10-10T17:51:45.672647Z",
     "start_time": "2020-10-10T17:51:45.668288Z"
    }
   },
   "outputs": [
    {
     "name": "stdout",
     "output_type": "stream",
     "text": [
      "GBR, gold medal 29, Total medals 65\n",
      "China, gold medal 38, Total medals 88\n",
      "RUS, gold medal 24, Total medals 81\n",
      "US, gold medal 46, Total medals 103\n",
      "KOR, gold medal 13, Total medals 28\n",
      "JPN, gold medal 7, Total medals 38\n",
      "GER, gold medal 11, Total medals 36\n"
     ]
    }
   ],
   "source": [
    "#print each country name with number of gold medals\n",
    "#print each country name with total number of medals\n",
    "for i in range(len(np_olympic_country)):\n",
    "    gold_medal = np_olympic_country_Gold[i]\n",
    "    country  = np_olympic_country[i]\n",
    "    total_medal = np_olympic_country_Bronze[i]+np_olympic_country_Gold[i]+np_olympic_country_Silver[i]\n",
    "    print( '{}, gold medal {}, Total medals {}'.format(country,gold_medal,total_medal))"
   ]
  },
  {
   "cell_type": "code",
   "execution_count": 16,
   "metadata": {
    "ExecuteTime": {
     "end_time": "2020-10-10T17:52:38.134808Z",
     "start_time": "2020-10-10T17:52:38.128693Z"
    }
   },
   "outputs": [
    {
     "name": "stdout",
     "output_type": "stream",
     "text": [
      "GBR, gold medal 29, Total medals 65\n",
      "China, gold medal 38, Total medals 88\n",
      "RUS, gold medal 24, Total medals 81\n",
      "US, gold medal 46, Total medals 103\n",
      "KOR, gold medal 13, Total medals 28\n",
      "JPN, gold medal 7, Total medals 38\n",
      "GER, gold medal 11, Total medals 36\n"
     ]
    }
   ],
   "source": [
    "#print each country name with number of gold medals\n",
    "#print each country name with total number of medals\n",
    "for i in range(len(np_olympic_country)):\n",
    "    gold_medal = np_olympic_country_Gold[i]\n",
    "    country  = np_olympic_country[i]\n",
    "    total_medal = np_olympic_country_Bronze[i]+np_olympic_country_Gold[i]+np_olympic_country_Silver[i]\n",
    "    print( f'{country}, gold medal {gold_medal}, Total medals {total_medal}')"
   ]
  },
  {
   "cell_type": "code",
   "execution_count": null,
   "metadata": {
    "collapsed": true
   },
   "outputs": [],
   "source": []
  }
 ],
 "metadata": {
  "kernelspec": {
   "display_name": "Python 3",
   "language": "python",
   "name": "python3"
  },
  "language_info": {
   "codemirror_mode": {
    "name": "ipython",
    "version": 3
   },
   "file_extension": ".py",
   "mimetype": "text/x-python",
   "name": "python",
   "nbconvert_exporter": "python",
   "pygments_lexer": "ipython3",
   "version": "3.7.3"
  }
 },
 "nbformat": 4,
 "nbformat_minor": 1
}
