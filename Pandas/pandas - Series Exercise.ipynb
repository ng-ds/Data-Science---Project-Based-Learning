{
 "cells": [
  {
   "cell_type": "markdown",
   "metadata": {},
   "source": [
    "### Start Pandas Series Exercises"
   ]
  },
  {
   "cell_type": "markdown",
   "metadata": {},
   "source": [
    "#### Exercise 01 : Create simple series"
   ]
  },
  {
   "cell_type": "code",
   "execution_count": 1,
   "metadata": {
    "ExecuteTime": {
     "end_time": "2020-10-17T14:53:33.578253Z",
     "start_time": "2020-10-17T14:53:32.979834Z"
    }
   },
   "outputs": [],
   "source": [
    "import numpy as np\n",
    "import pandas as pd"
   ]
  },
  {
   "cell_type": "code",
   "execution_count": 2,
   "metadata": {
    "ExecuteTime": {
     "end_time": "2020-10-17T14:53:38.139466Z",
     "start_time": "2020-10-17T14:53:38.136510Z"
    }
   },
   "outputs": [],
   "source": [
    "#print a simple series with list as an argument\n",
    "first_series = pd.Series(list('abcdef'))"
   ]
  },
  {
   "cell_type": "code",
   "execution_count": 3,
   "metadata": {
    "ExecuteTime": {
     "end_time": "2020-10-17T14:53:40.129492Z",
     "start_time": "2020-10-17T14:53:40.125759Z"
    },
    "scrolled": true
   },
   "outputs": [
    {
     "name": "stdout",
     "output_type": "stream",
     "text": [
      "0    a\n",
      "1    b\n",
      "2    c\n",
      "3    d\n",
      "4    e\n",
      "5    f\n",
      "dtype: object\n"
     ]
    }
   ],
   "source": [
    "print (first_series)"
   ]
  },
  {
   "cell_type": "markdown",
   "metadata": {},
   "source": [
    "#### Exercise 02 : Create Series from ndarray"
   ]
  },
  {
   "cell_type": "code",
   "execution_count": 4,
   "metadata": {
    "ExecuteTime": {
     "end_time": "2020-10-17T14:53:48.412228Z",
     "start_time": "2020-10-17T14:53:48.409071Z"
    }
   },
   "outputs": [],
   "source": [
    "#create a series using ndarray countries data\n",
    "np_country = np.array(['Luxembourg','Norway','Japan','Switzerland','United States','Qatar','Iceland','Sweden',\n",
    "                       'Singapore','Denmark'])"
   ]
  },
  {
   "cell_type": "code",
   "execution_count": 5,
   "metadata": {
    "ExecuteTime": {
     "end_time": "2020-10-17T14:53:48.886471Z",
     "start_time": "2020-10-17T14:53:48.883588Z"
    }
   },
   "outputs": [],
   "source": [
    "s_country = pd.Series(np_country)"
   ]
  },
  {
   "cell_type": "code",
   "execution_count": 6,
   "metadata": {
    "ExecuteTime": {
     "end_time": "2020-10-17T14:53:49.528521Z",
     "start_time": "2020-10-17T14:53:49.524554Z"
    }
   },
   "outputs": [
    {
     "name": "stdout",
     "output_type": "stream",
     "text": [
      "0       Luxembourg\n",
      "1           Norway\n",
      "2            Japan\n",
      "3      Switzerland\n",
      "4    United States\n",
      "5            Qatar\n",
      "6          Iceland\n",
      "7           Sweden\n",
      "8        Singapore\n",
      "9          Denmark\n",
      "dtype: object\n"
     ]
    }
   ],
   "source": [
    "print (s_country)"
   ]
  },
  {
   "cell_type": "markdown",
   "metadata": {},
   "source": [
    "#### Exercise 03 : Create Series from 2 lists"
   ]
  },
  {
   "cell_type": "code",
   "execution_count": 7,
   "metadata": {
    "ExecuteTime": {
     "end_time": "2020-10-17T14:54:03.311994Z",
     "start_time": "2020-10-17T14:54:03.307549Z"
    }
   },
   "outputs": [],
   "source": [
    "#Evaluate countries and their corresponding gdp per capita and print them as series\n",
    "dict_country_gdp = pd.Series([52056.01781,40258.80862,40034.85063,39578.07441,39170.41371,\n",
    "                              37958.23146,37691.02733,36152.66676,34706.19047,33630.24604,\n",
    "                              33529.83052,30860.12808],index=['Luxembourg','Macao, China','Norway',\n",
    "                'Japan','Switzerland','Hong Kong, China','United States','Qatar','Iceland','Sweden',\n",
    "                'Singapore','Denmark'])"
   ]
  },
  {
   "cell_type": "code",
   "execution_count": 8,
   "metadata": {
    "ExecuteTime": {
     "end_time": "2020-10-17T14:54:04.244609Z",
     "start_time": "2020-10-17T14:54:04.240852Z"
    }
   },
   "outputs": [
    {
     "name": "stdout",
     "output_type": "stream",
     "text": [
      "Luxembourg          52056.01781\n",
      "Macao, China        40258.80862\n",
      "Norway              40034.85063\n",
      "Japan               39578.07441\n",
      "Switzerland         39170.41371\n",
      "Hong Kong, China    37958.23146\n",
      "United States       37691.02733\n",
      "Qatar               36152.66676\n",
      "Iceland             34706.19047\n",
      "Sweden              33630.24604\n",
      "Singapore           33529.83052\n",
      "Denmark             30860.12808\n",
      "dtype: float64\n"
     ]
    }
   ],
   "source": [
    "print (dict_country_gdp)"
   ]
  },
  {
   "cell_type": "markdown",
   "metadata": {},
   "source": [
    "#### Exercise 04: Access elements in Series"
   ]
  },
  {
   "cell_type": "code",
   "execution_count": 9,
   "metadata": {
    "ExecuteTime": {
     "end_time": "2020-10-17T14:54:10.090290Z",
     "start_time": "2020-10-17T14:54:10.080566Z"
    }
   },
   "outputs": [
    {
     "data": {
      "text/plain": [
       "52056.01781"
      ]
     },
     "execution_count": 9,
     "metadata": {},
     "output_type": "execute_result"
    }
   ],
   "source": [
    "#access elements in the series\n",
    "dict_country_gdp[0]"
   ]
  },
  {
   "cell_type": "code",
   "execution_count": 10,
   "metadata": {
    "ExecuteTime": {
     "end_time": "2020-10-17T14:54:10.725720Z",
     "start_time": "2020-10-17T14:54:10.720182Z"
    }
   },
   "outputs": [
    {
     "data": {
      "text/plain": [
       "Luxembourg      52056.01781\n",
       "Macao, China    40258.80862\n",
       "Norway          40034.85063\n",
       "Japan           39578.07441\n",
       "Switzerland     39170.41371\n",
       "dtype: float64"
      ]
     },
     "execution_count": 10,
     "metadata": {},
     "output_type": "execute_result"
    }
   ],
   "source": [
    "#access first 5 countries from the series\n",
    "dict_country_gdp[0:5]"
   ]
  },
  {
   "cell_type": "code",
   "execution_count": 11,
   "metadata": {
    "ExecuteTime": {
     "end_time": "2020-10-17T14:54:12.348439Z",
     "start_time": "2020-10-17T14:54:12.344449Z"
    }
   },
   "outputs": [
    {
     "data": {
      "text/plain": [
       "37691.02733"
      ]
     },
     "execution_count": 11,
     "metadata": {},
     "output_type": "execute_result"
    }
   ],
   "source": [
    "#look up a country by name or index\n",
    "dict_country_gdp.loc['United States']"
   ]
  },
  {
   "cell_type": "code",
   "execution_count": 12,
   "metadata": {
    "ExecuteTime": {
     "end_time": "2020-10-17T09:30:03.646455Z",
     "start_time": "2020-10-17T09:30:03.642630Z"
    }
   },
   "outputs": [
    {
     "data": {
      "text/plain": [
       "52056.01781"
      ]
     },
     "execution_count": 12,
     "metadata": {},
     "output_type": "execute_result"
    }
   ],
   "source": [
    "#look up by position\n",
    "dict_country_gdp.iloc[0]    "
   ]
  },
  {
   "cell_type": "markdown",
   "metadata": {},
   "source": [
    "#### Exercise 05 : Create Series from scalar"
   ]
  },
  {
   "cell_type": "code",
   "execution_count": 12,
   "metadata": {
    "ExecuteTime": {
     "end_time": "2020-10-17T14:54:44.136873Z",
     "start_time": "2020-10-17T14:54:44.133618Z"
    }
   },
   "outputs": [],
   "source": [
    "#Print Series with scalar input\n",
    "scalar_series = pd.Series(5.,index=['a','b','c','d','e'])"
   ]
  },
  {
   "cell_type": "code",
   "execution_count": 13,
   "metadata": {
    "ExecuteTime": {
     "end_time": "2020-10-17T14:54:44.708314Z",
     "start_time": "2020-10-17T14:54:44.703888Z"
    }
   },
   "outputs": [
    {
     "data": {
      "text/plain": [
       "a    5.0\n",
       "b    5.0\n",
       "c    5.0\n",
       "d    5.0\n",
       "e    5.0\n",
       "dtype: float64"
      ]
     },
     "execution_count": 13,
     "metadata": {},
     "output_type": "execute_result"
    }
   ],
   "source": [
    "scalar_series"
   ]
  },
  {
   "cell_type": "markdown",
   "metadata": {},
   "source": [
    "##### Exercise 05 : Vectorized Operations"
   ]
  },
  {
   "cell_type": "code",
   "execution_count": 14,
   "metadata": {
    "ExecuteTime": {
     "end_time": "2020-10-17T14:54:56.514196Z",
     "start_time": "2020-10-17T14:54:56.510058Z"
    }
   },
   "outputs": [],
   "source": [
    "#declare two different vector series with same indexes\n",
    "first_vector_series = pd.Series([1,2,3,4],index=['a','b','c','d'])\n",
    "second_vector_series = pd.Series([10,20,30,40],index=['a','b','c','d'])"
   ]
  },
  {
   "cell_type": "code",
   "execution_count": 15,
   "metadata": {
    "ExecuteTime": {
     "end_time": "2020-10-17T14:54:57.771502Z",
     "start_time": "2020-10-17T14:54:57.752467Z"
    }
   },
   "outputs": [
    {
     "data": {
      "text/plain": [
       "a    11\n",
       "b    22\n",
       "c    33\n",
       "d    44\n",
       "dtype: int64"
      ]
     },
     "execution_count": 15,
     "metadata": {},
     "output_type": "execute_result"
    }
   ],
   "source": [
    "first_vector_series+second_vector_series"
   ]
  },
  {
   "cell_type": "code",
   "execution_count": 16,
   "metadata": {
    "ExecuteTime": {
     "end_time": "2020-10-17T14:55:04.596173Z",
     "start_time": "2020-10-17T14:55:04.592810Z"
    }
   },
   "outputs": [],
   "source": [
    "#now shuffle index of second vector series\n",
    "second_vector_series = pd.Series([10,20,30,40],index=['a','d','b','c'])"
   ]
  },
  {
   "cell_type": "code",
   "execution_count": 17,
   "metadata": {
    "ExecuteTime": {
     "end_time": "2020-10-17T14:55:05.996551Z",
     "start_time": "2020-10-17T14:55:05.991286Z"
    }
   },
   "outputs": [
    {
     "data": {
      "text/plain": [
       "a    11\n",
       "b    32\n",
       "c    43\n",
       "d    24\n",
       "dtype: int64"
      ]
     },
     "execution_count": 17,
     "metadata": {},
     "output_type": "execute_result"
    }
   ],
   "source": [
    "first_vector_series+second_vector_series"
   ]
  },
  {
   "cell_type": "code",
   "execution_count": 19,
   "metadata": {
    "ExecuteTime": {
     "end_time": "2020-10-17T14:55:35.587255Z",
     "start_time": "2020-10-17T14:55:35.582188Z"
    }
   },
   "outputs": [
    {
     "data": {
      "text/plain": [
       "a    10\n",
       "d    20\n",
       "b    30\n",
       "c    40\n",
       "dtype: int64"
      ]
     },
     "execution_count": 19,
     "metadata": {},
     "output_type": "execute_result"
    }
   ],
   "source": [
    "second_vector_series"
   ]
  },
  {
   "cell_type": "code",
   "execution_count": 20,
   "metadata": {
    "ExecuteTime": {
     "end_time": "2020-10-17T14:55:40.359587Z",
     "start_time": "2020-10-17T14:55:40.353620Z"
    }
   },
   "outputs": [
    {
     "data": {
      "text/plain": [
       "a    11\n",
       "b    32\n",
       "c    43\n",
       "d    24\n",
       "dtype: int64"
      ]
     },
     "execution_count": 20,
     "metadata": {},
     "output_type": "execute_result"
    }
   ],
   "source": [
    "second_vector_series+ first_vector_series"
   ]
  },
  {
   "cell_type": "code",
   "execution_count": null,
   "metadata": {},
   "outputs": [],
   "source": []
  },
  {
   "cell_type": "code",
   "execution_count": 21,
   "metadata": {
    "ExecuteTime": {
     "end_time": "2020-10-17T14:56:14.215303Z",
     "start_time": "2020-10-17T14:56:14.212011Z"
    }
   },
   "outputs": [],
   "source": [
    "#now replace few indexes with new ones in second vector series\n",
    "second_vector_series = pd.Series([10,20,30,40],index=['a','b','e','f'])"
   ]
  },
  {
   "cell_type": "code",
   "execution_count": 22,
   "metadata": {
    "ExecuteTime": {
     "end_time": "2020-10-17T14:56:17.299799Z",
     "start_time": "2020-10-17T14:56:17.295492Z"
    }
   },
   "outputs": [
    {
     "data": {
      "text/plain": [
       "a    10\n",
       "b    20\n",
       "e    30\n",
       "f    40\n",
       "dtype: int64"
      ]
     },
     "execution_count": 22,
     "metadata": {},
     "output_type": "execute_result"
    }
   ],
   "source": [
    "second_vector_series"
   ]
  },
  {
   "cell_type": "code",
   "execution_count": 23,
   "metadata": {
    "ExecuteTime": {
     "end_time": "2020-10-17T14:56:25.562737Z",
     "start_time": "2020-10-17T14:56:25.558330Z"
    }
   },
   "outputs": [
    {
     "data": {
      "text/plain": [
       "a    1\n",
       "b    2\n",
       "c    3\n",
       "d    4\n",
       "dtype: int64"
      ]
     },
     "execution_count": 23,
     "metadata": {},
     "output_type": "execute_result"
    }
   ],
   "source": [
    "first_vector_series"
   ]
  },
  {
   "cell_type": "code",
   "execution_count": 24,
   "metadata": {
    "ExecuteTime": {
     "end_time": "2020-10-17T14:56:33.391948Z",
     "start_time": "2020-10-17T14:56:33.386899Z"
    }
   },
   "outputs": [
    {
     "data": {
      "text/plain": [
       "a    11.0\n",
       "b    22.0\n",
       "c     NaN\n",
       "d     NaN\n",
       "e     NaN\n",
       "f     NaN\n",
       "dtype: float64"
      ]
     },
     "execution_count": 24,
     "metadata": {},
     "output_type": "execute_result"
    }
   ],
   "source": [
    "first_vector_series+second_vector_series"
   ]
  },
  {
   "cell_type": "code",
   "execution_count": 25,
   "metadata": {
    "ExecuteTime": {
     "end_time": "2020-10-17T14:59:06.957364Z",
     "start_time": "2020-10-17T14:59:06.953883Z"
    }
   },
   "outputs": [
    {
     "data": {
      "text/plain": [
       "5"
      ]
     },
     "execution_count": 25,
     "metadata": {},
     "output_type": "execute_result"
    }
   ],
   "source": [
    "2 + 3"
   ]
  },
  {
   "cell_type": "code",
   "execution_count": 26,
   "metadata": {
    "ExecuteTime": {
     "end_time": "2020-10-17T14:59:13.256504Z",
     "start_time": "2020-10-17T14:59:13.252842Z"
    }
   },
   "outputs": [
    {
     "data": {
      "text/plain": [
       "5.0"
      ]
     },
     "execution_count": 26,
     "metadata": {},
     "output_type": "execute_result"
    }
   ],
   "source": [
    "2 + 3."
   ]
  },
  {
   "cell_type": "code",
   "execution_count": 27,
   "metadata": {
    "ExecuteTime": {
     "end_time": "2020-10-17T15:02:36.070068Z",
     "start_time": "2020-10-17T15:02:36.067476Z"
    }
   },
   "outputs": [],
   "source": [
    "d_s = {'a':1,'b':2}"
   ]
  },
  {
   "cell_type": "code",
   "execution_count": 28,
   "metadata": {
    "ExecuteTime": {
     "end_time": "2020-10-17T15:02:43.042444Z",
     "start_time": "2020-10-17T15:02:43.037375Z"
    }
   },
   "outputs": [
    {
     "data": {
      "text/plain": [
       "a    1\n",
       "b    2\n",
       "dtype: int64"
      ]
     },
     "execution_count": 28,
     "metadata": {},
     "output_type": "execute_result"
    }
   ],
   "source": [
    "pd.Series(d_s)"
   ]
  },
  {
   "cell_type": "code",
   "execution_count": null,
   "metadata": {},
   "outputs": [],
   "source": []
  }
 ],
 "metadata": {
  "kernelspec": {
   "display_name": "Python 3",
   "language": "python",
   "name": "python3"
  },
  "language_info": {
   "codemirror_mode": {
    "name": "ipython",
    "version": 3
   },
   "file_extension": ".py",
   "mimetype": "text/x-python",
   "name": "python",
   "nbconvert_exporter": "python",
   "pygments_lexer": "ipython3",
   "version": "3.7.3"
  }
 },
 "nbformat": 4,
 "nbformat_minor": 1
}
