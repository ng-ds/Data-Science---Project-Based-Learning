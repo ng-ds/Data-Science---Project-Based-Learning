{
 "cells": [
  {
   "cell_type": "markdown",
   "metadata": {},
   "source": [
    "#### NumPy - Basic Operations"
   ]
  },
  {
   "cell_type": "markdown",
   "metadata": {},
   "source": [
    "##### Mathematical Operations"
   ]
  },
  {
   "cell_type": "code",
   "execution_count": 1,
   "metadata": {
    "ExecuteTime": {
     "end_time": "2020-10-10T17:26:27.034236Z",
     "start_time": "2020-10-10T17:26:26.796955Z"
    }
   },
   "outputs": [],
   "source": [
    "import numpy as np"
   ]
  },
  {
   "cell_type": "code",
   "execution_count": 2,
   "metadata": {
    "ExecuteTime": {
     "end_time": "2020-10-10T17:26:37.560817Z",
     "start_time": "2020-10-10T17:26:37.549963Z"
    }
   },
   "outputs": [
    {
     "data": {
      "text/plain": [
       "65"
      ]
     },
     "execution_count": 2,
     "metadata": {},
     "output_type": "execute_result"
    }
   ],
   "source": [
    "#addition\n",
    "np.add(45,20)"
   ]
  },
  {
   "cell_type": "code",
   "execution_count": 3,
   "metadata": {
    "ExecuteTime": {
     "end_time": "2020-10-10T17:26:51.853577Z",
     "start_time": "2020-10-10T17:26:51.848947Z"
    }
   },
   "outputs": [
    {
     "data": {
      "text/plain": [
       "22"
      ]
     },
     "execution_count": 3,
     "metadata": {},
     "output_type": "execute_result"
    }
   ],
   "source": [
    "#subtraction\n",
    "np.subtract(45,23)"
   ]
  },
  {
   "cell_type": "code",
   "execution_count": 4,
   "metadata": {
    "ExecuteTime": {
     "end_time": "2020-10-10T17:26:59.641575Z",
     "start_time": "2020-10-10T17:26:59.638693Z"
    }
   },
   "outputs": [],
   "source": [
    "# ndarray multiplication\n",
    "# create ndarray which conntains number of hrs worked for 5 days\n",
    "# hourly rate is 15 USD\n",
    "np_daily_wage = np.array([7,9,13,8,11])*15"
   ]
  },
  {
   "cell_type": "code",
   "execution_count": 5,
   "metadata": {
    "ExecuteTime": {
     "end_time": "2020-10-10T17:27:06.477617Z",
     "start_time": "2020-10-10T17:27:06.473825Z"
    }
   },
   "outputs": [
    {
     "data": {
      "text/plain": [
       "array([105, 135, 195, 120, 165])"
      ]
     },
     "execution_count": 5,
     "metadata": {},
     "output_type": "execute_result"
    }
   ],
   "source": [
    "np_daily_wage"
   ]
  },
  {
   "cell_type": "code",
   "execution_count": 6,
   "metadata": {
    "ExecuteTime": {
     "end_time": "2020-10-10T17:27:24.036150Z",
     "start_time": "2020-10-10T17:27:24.032493Z"
    }
   },
   "outputs": [
    {
     "data": {
      "text/plain": [
       "720"
      ]
     },
     "execution_count": 6,
     "metadata": {},
     "output_type": "execute_result"
    }
   ],
   "source": [
    "#total earning after 5 days\n",
    "#use sum method to add all data elements of ndarray\n",
    "sum(np_daily_wage)"
   ]
  },
  {
   "cell_type": "code",
   "execution_count": 7,
   "metadata": {
    "ExecuteTime": {
     "end_time": "2020-10-10T17:30:07.825381Z",
     "start_time": "2020-10-10T17:30:07.821409Z"
    }
   },
   "outputs": [
    {
     "name": "stdout",
     "output_type": "stream",
     "text": [
      "[105 135 195 120 165]\n"
     ]
    }
   ],
   "source": [
    "#print hourly wage for each day\n",
    "print (np_daily_wage)"
   ]
  },
  {
   "cell_type": "code",
   "execution_count": 8,
   "metadata": {
    "ExecuteTime": {
     "end_time": "2020-10-10T17:30:11.334009Z",
     "start_time": "2020-10-10T17:30:11.330461Z"
    }
   },
   "outputs": [
    {
     "data": {
      "text/plain": [
       "array([105, 135, 195, 120, 165])"
      ]
     },
     "execution_count": 8,
     "metadata": {},
     "output_type": "execute_result"
    }
   ],
   "source": [
    "np_daily_wage"
   ]
  },
  {
   "cell_type": "markdown",
   "metadata": {},
   "source": [
    "##### Comparison Operations"
   ]
  },
  {
   "cell_type": "code",
   "execution_count": 9,
   "metadata": {
    "ExecuteTime": {
     "end_time": "2020-10-10T17:30:33.060631Z",
     "start_time": "2020-10-10T17:30:33.057887Z"
    }
   },
   "outputs": [],
   "source": [
    "#comparison operations\n",
    "#create ndarray for weekly hrs, 5 consecutive weeks hrs data\n",
    "np_weekly_hrs = np.array([23,41,55,47,38])"
   ]
  },
  {
   "cell_type": "code",
   "execution_count": 10,
   "metadata": {
    "ExecuteTime": {
     "end_time": "2020-10-10T17:30:54.922916Z",
     "start_time": "2020-10-10T17:30:54.920545Z"
    }
   },
   "outputs": [],
   "source": [
    "mask = np_weekly_hrs>40"
   ]
  },
  {
   "cell_type": "code",
   "execution_count": 11,
   "metadata": {
    "ExecuteTime": {
     "end_time": "2020-10-10T17:30:57.374874Z",
     "start_time": "2020-10-10T17:30:57.371431Z"
    }
   },
   "outputs": [
    {
     "data": {
      "text/plain": [
       "array([False,  True,  True,  True, False])"
      ]
     },
     "execution_count": 11,
     "metadata": {},
     "output_type": "execute_result"
    }
   ],
   "source": [
    "mask"
   ]
  },
  {
   "cell_type": "code",
   "execution_count": 12,
   "metadata": {
    "ExecuteTime": {
     "end_time": "2020-10-10T17:31:04.704933Z",
     "start_time": "2020-10-10T17:31:04.701334Z"
    }
   },
   "outputs": [
    {
     "data": {
      "text/plain": [
       "array([41, 55, 47])"
      ]
     },
     "execution_count": 12,
     "metadata": {},
     "output_type": "execute_result"
    }
   ],
   "source": [
    "#week with more than 40 hrs \n",
    "np_weekly_hrs[mask]"
   ]
  },
  {
   "cell_type": "code",
   "execution_count": null,
   "metadata": {},
   "outputs": [],
   "source": [
    "#week with hrs not equals to 40\n",
    "np_weekly_hrs[np_weekly_hrs!=40]"
   ]
  },
  {
   "cell_type": "markdown",
   "metadata": {},
   "source": [
    "##### Logical Operations"
   ]
  },
  {
   "cell_type": "code",
   "execution_count": 13,
   "metadata": {
    "ExecuteTime": {
     "end_time": "2020-10-10T17:32:17.376534Z",
     "start_time": "2020-10-10T17:32:17.369908Z"
    }
   },
   "outputs": [
    {
     "data": {
      "text/plain": [
       "array([ True,  True, False,  True,  True])"
      ]
     },
     "execution_count": 13,
     "metadata": {},
     "output_type": "execute_result"
    }
   ],
   "source": [
    "#Logical AND operation\n",
    "np.logical_and(np_weekly_hrs>20,np_weekly_hrs<50)"
   ]
  },
  {
   "cell_type": "code",
   "execution_count": 14,
   "metadata": {
    "ExecuteTime": {
     "end_time": "2020-10-10T17:32:18.180288Z",
     "start_time": "2020-10-10T17:32:18.176932Z"
    }
   },
   "outputs": [
    {
     "data": {
      "text/plain": [
       "array([ True, False, False, False, False])"
      ]
     },
     "execution_count": 14,
     "metadata": {},
     "output_type": "execute_result"
    }
   ],
   "source": [
    "#Logical NOT operation\n",
    "np.logical_not(np_weekly_hrs>35)"
   ]
  },
  {
   "cell_type": "code",
   "execution_count": null,
   "metadata": {},
   "outputs": [],
   "source": []
  }
 ],
 "metadata": {
  "kernelspec": {
   "display_name": "Python 3",
   "language": "python",
   "name": "python3"
  },
  "language_info": {
   "codemirror_mode": {
    "name": "ipython",
    "version": 3
   },
   "file_extension": ".py",
   "mimetype": "text/x-python",
   "name": "python",
   "nbconvert_exporter": "python",
   "pygments_lexer": "ipython3",
   "version": "3.7.3"
  }
 },
 "nbformat": 4,
 "nbformat_minor": 1
}
