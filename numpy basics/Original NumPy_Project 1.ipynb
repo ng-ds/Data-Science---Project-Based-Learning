{
 "cells": [
  {
   "cell_type": "code",
   "execution_count": 1,
   "metadata": {
    "ExecuteTime": {
     "end_time": "2020-10-10T17:33:04.487706Z",
     "start_time": "2020-10-10T17:33:04.248294Z"
    }
   },
   "outputs": [],
   "source": [
    "#Analyze gdp per capita for given set of countries\n",
    "#find country with max and min gdp\n",
    "#find and print gdp per capita of each country\n",
    "#print gdp => mean, max, min,standard deviation and sum\n",
    "import numpy as np\n",
    "countries = np.array(['Algeria','Angola','Argentina','Australia','Austria','Bahamas','Bangladesh','Belarus','Belgium',\n",
    "                      'Bhutan','Brazil','Bulgaria','Cambodia','Cameroon','Chile','China','Colombia','Cyprus','Denmark',\n",
    "                      'El Salvador','Estonia','Ethiopia','Fiji','Finland','France','Georgia','Ghana','Grenada',\n",
    "                      'Guinea','Haiti','Honduras','Hungary','India','Indonesia','Ireland','Italy','Japan','Kenya',\n",
    "                      'South Korea','Liberia','Malaysia','Mexico', 'Morocco','Nepal','New Zealand','Norway','Pakistan',\n",
    "                      'Peru','Qatar','Russia','Singapore','South Africa','Spain','Sweden','Switzerland','Thailand',\n",
    "                      'United Arab Emirates','United Kingdom','United States','Uruguay',\n",
    "                      'Venezuela','Vietnam','Zimbabwe'])\n",
    "gdp_per_capita = np.array([2255.225482,629.9553062,11601.63022,25306.82494,27266.40335,19466.99052,588.3691778,\n",
    "            2890.345675,24733.62696,1445.760002,4803.398244,2618.876037,590.4521124,665.7982328,7122.938458,2639.54156,\n",
    "                  3362.4656,15378.16704,30860.12808,2579.115607,6525.541272,229.6769525,2242.689259,27570.4852,\n",
    "                  23016.84778,1334.646773,402.6953275,6047.200797,394.1156638,385.5793827,1414.072488,5745.981529,\n",
    "                  837.7464011,1206.991065,27715.52837,18937.24998,39578.07441,478.2194906,16684.21278,279.2204061,\n",
    "                  5345.213415,6288.25324,1908.304416,274.8728621,14646.42094,40034.85063,672.1547506,3359.517402,\n",
    "                  36152.66676,3054.727742,33529.83052,3825.093781,15428.32098,33630.24604,39170.41371,2699.123242,\n",
    "                  21058.43643,28272.40661,37691.02733,9581.05659,5671.912202,757.4009286,347.7456605])"
   ]
  },
  {
   "cell_type": "code",
   "execution_count": 2,
   "metadata": {
    "ExecuteTime": {
     "end_time": "2020-10-10T17:37:16.163841Z",
     "start_time": "2020-10-10T17:37:16.155450Z"
    }
   },
   "outputs": [
    {
     "data": {
      "text/plain": [
       "(63,)"
      ]
     },
     "execution_count": 2,
     "metadata": {},
     "output_type": "execute_result"
    }
   ],
   "source": [
    "countries.shape"
   ]
  },
  {
   "cell_type": "code",
   "execution_count": 3,
   "metadata": {
    "ExecuteTime": {
     "end_time": "2020-10-10T17:37:22.844572Z",
     "start_time": "2020-10-10T17:37:22.841320Z"
    }
   },
   "outputs": [
    {
     "data": {
      "text/plain": [
       "(63,)"
      ]
     },
     "execution_count": 3,
     "metadata": {},
     "output_type": "execute_result"
    }
   ],
   "source": [
    "gdp_per_capita.shape"
   ]
  },
  {
   "cell_type": "code",
   "execution_count": 4,
   "metadata": {
    "ExecuteTime": {
     "end_time": "2020-10-10T17:37:35.962361Z",
     "start_time": "2020-10-10T17:37:35.959795Z"
    }
   },
   "outputs": [],
   "source": [
    "max_gdp_per_capita = gdp_per_capita.argmax()"
   ]
  },
  {
   "cell_type": "code",
   "execution_count": 5,
   "metadata": {
    "ExecuteTime": {
     "end_time": "2020-10-10T17:37:38.159585Z",
     "start_time": "2020-10-10T17:37:38.156383Z"
    }
   },
   "outputs": [
    {
     "data": {
      "text/plain": [
       "45"
      ]
     },
     "execution_count": 5,
     "metadata": {},
     "output_type": "execute_result"
    }
   ],
   "source": [
    "max_gdp_per_capita"
   ]
  },
  {
   "cell_type": "code",
   "execution_count": 6,
   "metadata": {
    "ExecuteTime": {
     "end_time": "2020-10-10T17:37:51.848342Z",
     "start_time": "2020-10-10T17:37:51.845764Z"
    }
   },
   "outputs": [],
   "source": [
    "country_with_max_gdp_per_capita = countries[max_gdp_per_capita]"
   ]
  },
  {
   "cell_type": "code",
   "execution_count": 7,
   "metadata": {
    "ExecuteTime": {
     "end_time": "2020-10-10T17:37:53.032217Z",
     "start_time": "2020-10-10T17:37:53.028427Z"
    }
   },
   "outputs": [
    {
     "data": {
      "text/plain": [
       "'Norway'"
      ]
     },
     "execution_count": 7,
     "metadata": {},
     "output_type": "execute_result"
    }
   ],
   "source": [
    "country_with_max_gdp_per_capita"
   ]
  },
  {
   "cell_type": "code",
   "execution_count": 8,
   "metadata": {
    "ExecuteTime": {
     "end_time": "2020-10-10T17:38:14.644982Z",
     "start_time": "2020-10-10T17:38:14.640000Z"
    }
   },
   "outputs": [
    {
     "data": {
      "text/plain": [
       "40034.85063"
      ]
     },
     "execution_count": 8,
     "metadata": {},
     "output_type": "execute_result"
    }
   ],
   "source": [
    "gdp_per_capita[max_gdp_per_capita]"
   ]
  },
  {
   "cell_type": "code",
   "execution_count": 9,
   "metadata": {
    "ExecuteTime": {
     "end_time": "2020-10-10T17:38:24.241947Z",
     "start_time": "2020-10-10T17:38:24.239565Z"
    }
   },
   "outputs": [],
   "source": [
    "min_gdp_per_capita = gdp_per_capita.argmin()"
   ]
  },
  {
   "cell_type": "code",
   "execution_count": 10,
   "metadata": {
    "ExecuteTime": {
     "end_time": "2020-10-10T17:39:00.657462Z",
     "start_time": "2020-10-10T17:39:00.654826Z"
    }
   },
   "outputs": [],
   "source": [
    "country_with_min_gdp_per_capita = countries[min_gdp_per_capita]"
   ]
  },
  {
   "cell_type": "code",
   "execution_count": 11,
   "metadata": {
    "ExecuteTime": {
     "end_time": "2020-10-10T17:39:05.864125Z",
     "start_time": "2020-10-10T17:39:05.860484Z"
    }
   },
   "outputs": [
    {
     "data": {
      "text/plain": [
       "'Ethiopia'"
      ]
     },
     "execution_count": 11,
     "metadata": {},
     "output_type": "execute_result"
    }
   ],
   "source": [
    "country_with_min_gdp_per_capita"
   ]
  },
  {
   "cell_type": "code",
   "execution_count": 12,
   "metadata": {
    "ExecuteTime": {
     "end_time": "2020-10-10T17:39:22.987954Z",
     "start_time": "2020-10-10T17:39:22.984081Z"
    }
   },
   "outputs": [
    {
     "data": {
      "text/plain": [
       "229.6769525"
      ]
     },
     "execution_count": 12,
     "metadata": {},
     "output_type": "execute_result"
    }
   ],
   "source": [
    "gdp_per_capita[min_gdp_per_capita]"
   ]
  },
  {
   "cell_type": "code",
   "execution_count": 13,
   "metadata": {
    "ExecuteTime": {
     "end_time": "2020-10-10T17:39:41.359967Z",
     "start_time": "2020-10-10T17:39:41.350119Z"
    }
   },
   "outputs": [
    {
     "name": "stdout",
     "output_type": "stream",
     "text": [
      "evaluating country Algeria\n",
      "evaluating country Angola\n",
      "evaluating country Argentina\n",
      "evaluating country Australia\n",
      "evaluating country Austria\n",
      "evaluating country Bahamas\n",
      "evaluating country Bangladesh\n",
      "evaluating country Belarus\n",
      "evaluating country Belgium\n",
      "evaluating country Bhutan\n",
      "evaluating country Brazil\n",
      "evaluating country Bulgaria\n",
      "evaluating country Cambodia\n",
      "evaluating country Cameroon\n",
      "evaluating country Chile\n",
      "evaluating country China\n",
      "evaluating country Colombia\n",
      "evaluating country Cyprus\n",
      "evaluating country Denmark\n",
      "evaluating country El Salvador\n",
      "evaluating country Estonia\n",
      "evaluating country Ethiopia\n",
      "evaluating country Fiji\n",
      "evaluating country Finland\n",
      "evaluating country France\n",
      "evaluating country Georgia\n",
      "evaluating country Ghana\n",
      "evaluating country Grenada\n",
      "evaluating country Guinea\n",
      "evaluating country Haiti\n",
      "evaluating country Honduras\n",
      "evaluating country Hungary\n",
      "evaluating country India\n",
      "evaluating country Indonesia\n",
      "evaluating country Ireland\n",
      "evaluating country Italy\n",
      "evaluating country Japan\n",
      "evaluating country Kenya\n",
      "evaluating country South Korea\n",
      "evaluating country Liberia\n",
      "evaluating country Malaysia\n",
      "evaluating country Mexico\n",
      "evaluating country Morocco\n",
      "evaluating country Nepal\n",
      "evaluating country New Zealand\n",
      "evaluating country Norway\n",
      "evaluating country Pakistan\n",
      "evaluating country Peru\n",
      "evaluating country Qatar\n",
      "evaluating country Russia\n",
      "evaluating country Singapore\n",
      "evaluating country South Africa\n",
      "evaluating country Spain\n",
      "evaluating country Sweden\n",
      "evaluating country Switzerland\n",
      "evaluating country Thailand\n",
      "evaluating country United Arab Emirates\n",
      "evaluating country United Kingdom\n",
      "evaluating country United States\n",
      "evaluating country Uruguay\n",
      "evaluating country Venezuela\n",
      "evaluating country Vietnam\n",
      "evaluating country Zimbabwe\n"
     ]
    }
   ],
   "source": [
    "for country in countries:\n",
    "    print('evaluating country {}'.format(country))"
   ]
  },
  {
   "cell_type": "code",
   "execution_count": 14,
   "metadata": {
    "ExecuteTime": {
     "end_time": "2020-10-10T17:39:43.290167Z",
     "start_time": "2020-10-10T17:39:43.280051Z"
    }
   },
   "outputs": [
    {
     "name": "stdout",
     "output_type": "stream",
     "text": [
      "country Algeria per capita gdp is 2255.225482\n",
      "country Angola per capita gdp is 629.9553062\n",
      "country Argentina per capita gdp is 11601.63022\n",
      "country Australia per capita gdp is 25306.82494\n",
      "country Austria per capita gdp is 27266.40335\n",
      "country Bahamas per capita gdp is 19466.99052\n",
      "country Bangladesh per capita gdp is 588.3691778\n",
      "country Belarus per capita gdp is 2890.345675\n",
      "country Belgium per capita gdp is 24733.62696\n",
      "country Bhutan per capita gdp is 1445.760002\n",
      "country Brazil per capita gdp is 4803.398244\n",
      "country Bulgaria per capita gdp is 2618.876037\n",
      "country Cambodia per capita gdp is 590.4521124\n",
      "country Cameroon per capita gdp is 665.7982328\n",
      "country Chile per capita gdp is 7122.938458\n",
      "country China per capita gdp is 2639.54156\n",
      "country Colombia per capita gdp is 3362.4656\n",
      "country Cyprus per capita gdp is 15378.16704\n",
      "country Denmark per capita gdp is 30860.12808\n",
      "country El Salvador per capita gdp is 2579.115607\n",
      "country Estonia per capita gdp is 6525.541272\n",
      "country Ethiopia per capita gdp is 229.6769525\n",
      "country Fiji per capita gdp is 2242.689259\n",
      "country Finland per capita gdp is 27570.4852\n",
      "country France per capita gdp is 23016.84778\n",
      "country Georgia per capita gdp is 1334.646773\n",
      "country Ghana per capita gdp is 402.6953275\n",
      "country Grenada per capita gdp is 6047.200797\n",
      "country Guinea per capita gdp is 394.1156638\n",
      "country Haiti per capita gdp is 385.5793827\n",
      "country Honduras per capita gdp is 1414.072488\n",
      "country Hungary per capita gdp is 5745.981529\n",
      "country India per capita gdp is 837.7464011\n",
      "country Indonesia per capita gdp is 1206.991065\n",
      "country Ireland per capita gdp is 27715.52837\n",
      "country Italy per capita gdp is 18937.24998\n",
      "country Japan per capita gdp is 39578.07441\n",
      "country Kenya per capita gdp is 478.2194906\n",
      "country South Korea per capita gdp is 16684.21278\n",
      "country Liberia per capita gdp is 279.2204061\n",
      "country Malaysia per capita gdp is 5345.213415\n",
      "country Mexico per capita gdp is 6288.25324\n",
      "country Morocco per capita gdp is 1908.304416\n",
      "country Nepal per capita gdp is 274.8728621\n",
      "country New Zealand per capita gdp is 14646.42094\n",
      "country Norway per capita gdp is 40034.85063\n",
      "country Pakistan per capita gdp is 672.1547506\n",
      "country Peru per capita gdp is 3359.517402\n",
      "country Qatar per capita gdp is 36152.66676\n",
      "country Russia per capita gdp is 3054.727742\n",
      "country Singapore per capita gdp is 33529.83052\n",
      "country South Africa per capita gdp is 3825.093781\n",
      "country Spain per capita gdp is 15428.32098\n",
      "country Sweden per capita gdp is 33630.24604\n",
      "country Switzerland per capita gdp is 39170.41371\n",
      "country Thailand per capita gdp is 2699.123242\n",
      "country United Arab Emirates per capita gdp is 21058.43643\n",
      "country United Kingdom per capita gdp is 28272.40661\n",
      "country United States per capita gdp is 37691.02733\n",
      "country Uruguay per capita gdp is 9581.05659\n",
      "country Venezuela per capita gdp is 5671.912202\n",
      "country Vietnam per capita gdp is 757.4009286\n",
      "country Zimbabwe per capita gdp is 347.7456605\n"
     ]
    }
   ],
   "source": [
    "for i in range(len(countries)):\n",
    "    country = countries[i]\n",
    "    country_gdp_per_capita = gdp_per_capita[i]\n",
    "    print('country {} per capita gdp is {}'.format(country,country_gdp_per_capita))"
   ]
  },
  {
   "cell_type": "code",
   "execution_count": 15,
   "metadata": {
    "ExecuteTime": {
     "end_time": "2020-10-10T17:40:44.170779Z",
     "start_time": "2020-10-10T17:40:44.166782Z"
    }
   },
   "outputs": [
    {
     "name": "stdout",
     "output_type": "stream",
     "text": [
      "40034.85063\n",
      "229.6769525\n",
      "11289.409271639683\n",
      "12743.828910617945\n",
      "711232.7841133\n"
     ]
    }
   ],
   "source": [
    "print( gdp_per_capita.max())\n",
    "print( gdp_per_capita.min())\n",
    "print( gdp_per_capita.mean())\n",
    "print( gdp_per_capita.std())\n",
    "print( gdp_per_capita.sum())"
   ]
  },
  {
   "cell_type": "code",
   "execution_count": null,
   "metadata": {},
   "outputs": [],
   "source": []
  }
 ],
 "metadata": {
  "kernelspec": {
   "display_name": "Python 3",
   "language": "python",
   "name": "python3"
  },
  "language_info": {
   "codemirror_mode": {
    "name": "ipython",
    "version": 3
   },
   "file_extension": ".py",
   "mimetype": "text/x-python",
   "name": "python",
   "nbconvert_exporter": "python",
   "pygments_lexer": "ipython3",
   "version": "3.7.3"
  }
 },
 "nbformat": 4,
 "nbformat_minor": 1
}
